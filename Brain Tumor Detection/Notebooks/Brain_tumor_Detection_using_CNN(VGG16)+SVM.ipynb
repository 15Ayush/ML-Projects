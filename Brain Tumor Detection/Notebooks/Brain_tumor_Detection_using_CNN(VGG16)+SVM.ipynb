{
  "cells": [
    {
      "cell_type": "code",
      "execution_count": 72,
      "id": "geographic-rocket",
      "metadata": {
        "execution": {
          "iopub.execute_input": "2021-06-10T18:36:26.698791Z",
          "iopub.status.busy": "2021-06-10T18:36:26.698236Z",
          "iopub.status.idle": "2021-06-10T18:36:26.958287Z",
          "shell.execute_reply": "2021-06-10T18:36:26.958749Z"
        },
        "id": "geographic-rocket",
        "papermill": {
          "duration": 0.285556,
          "end_time": "2021-06-10T18:36:26.959091",
          "exception": false,
          "start_time": "2021-06-10T18:36:26.673535",
          "status": "completed"
        },
        "tags": []
      },
      "outputs": [],
      "source": [
        "import numpy as np\n",
        "import matplotlib.pyplot as plt\n",
        "import cv2\n",
        "from os import listdir\n",
        "import imutils\n",
        "from sklearn.utils import shuffle\n",
        "import tensorflow as tf\n",
        "from tensorflow.keras.models import Model, load_model\n",
        "from sklearn.model_selection import train_test_split"
      ]
    },
    {
      "cell_type": "code",
      "source": [
        "from google.colab import drive\n",
        "drive.mount('/content/drive')"
      ],
      "metadata": {
        "colab": {
          "base_uri": "https://localhost:8080/"
        },
        "id": "it8UtWd7PVZj",
        "outputId": "1b5f0943-92a5-4523-a031-96335df0c6a6"
      },
      "id": "it8UtWd7PVZj",
      "execution_count": 73,
      "outputs": [
        {
          "output_type": "stream",
          "name": "stdout",
          "text": [
            "Drive already mounted at /content/drive; to attempt to forcibly remount, call drive.mount(\"/content/drive\", force_remount=True).\n"
          ]
        }
      ]
    },
    {
      "cell_type": "code",
      "execution_count": 74,
      "id": "boring-doubt",
      "metadata": {
        "execution": {
          "iopub.execute_input": "2021-06-10T18:36:27.006299Z",
          "iopub.status.busy": "2021-06-10T18:36:27.002530Z",
          "iopub.status.idle": "2021-06-10T18:36:27.011103Z",
          "shell.execute_reply": "2021-06-10T18:36:27.010468Z"
        },
        "id": "boring-doubt",
        "papermill": {
          "duration": 0.034169,
          "end_time": "2021-06-10T18:36:27.011241",
          "exception": false,
          "start_time": "2021-06-10T18:36:26.977072",
          "status": "completed"
        },
        "tags": []
      },
      "outputs": [],
      "source": [
        "#method for cropping image i.e. for getting brain area\n",
        "def crop_brain_contour(image, plot=False):\n",
        "    \n",
        "    \n",
        "    # Convert the image to grayscale, and blur it slightly\n",
        "    gray = cv2.cvtColor(image, cv2.COLOR_BGR2GRAY)\n",
        "    gray = cv2.GaussianBlur(gray, (5, 5), 0)\n",
        "\n",
        "    # Threshold the image, then perform a series of erosions +\n",
        "    # dilations to remove any small regions of noise\n",
        "    thresh = cv2.threshold(gray, 45, 255, cv2.THRESH_BINARY)[1]\n",
        "    thresh = cv2.erode(thresh, None, iterations=2)\n",
        "    thresh = cv2.dilate(thresh, None, iterations=2)\n",
        "\n",
        "    # Find contours in thresholded image, then grab the largest one\n",
        "    cnts = cv2.findContours(thresh.copy(), cv2.RETR_EXTERNAL, cv2.CHAIN_APPROX_SIMPLE)\n",
        "    cnts = imutils.grab_contours(cnts)\n",
        "    c = max(cnts, key=cv2.contourArea)\n",
        "    \n",
        "\n",
        "    # Find the extreme points\n",
        "    extLeft = tuple(c[c[:, :, 0].argmin()][0])\n",
        "    extRight = tuple(c[c[:, :, 0].argmax()][0])\n",
        "    extTop = tuple(c[c[:, :, 1].argmin()][0])\n",
        "    extBot = tuple(c[c[:, :, 1].argmax()][0])\n",
        "    \n",
        "    # crop new image out of the original image using the four extreme points (left, right, top, bottom)\n",
        "    new_image = image[extTop[1]:extBot[1], extLeft[0]:extRight[0]]            \n",
        "\n",
        "    if plot:\n",
        "        plt.figure()\n",
        "\n",
        "        plt.subplot(1, 2, 1)\n",
        "        plt.imshow(image)\n",
        "        \n",
        "        plt.tick_params(axis='both', which='both', \n",
        "                        top=False, bottom=False, left=False, right=False,\n",
        "                        labelbottom=False, labeltop=False, labelleft=False, labelright=False)\n",
        "        \n",
        "        plt.title('Original Image')\n",
        "            \n",
        "        plt.subplot(1, 2, 2)\n",
        "        plt.imshow(new_image)\n",
        "\n",
        "        plt.tick_params(axis='both', which='both', \n",
        "                        top=False, bottom=False, left=False, right=False,\n",
        "                        labelbottom=False, labeltop=False, labelleft=False, labelright=False)\n",
        "\n",
        "        plt.title('Preprocessed Image')\n",
        "        \n",
        "        plt.show()\n",
        "    \n",
        "    return new_image"
      ]
    },
    {
      "cell_type": "code",
      "execution_count": 75,
      "id": "mobile-porcelain",
      "metadata": {
        "execution": {
          "iopub.execute_input": "2021-06-10T18:36:27.054542Z",
          "iopub.status.busy": "2021-06-10T18:36:27.053855Z",
          "iopub.status.idle": "2021-06-10T18:36:27.057017Z",
          "shell.execute_reply": "2021-06-10T18:36:27.056411Z"
        },
        "id": "mobile-porcelain",
        "papermill": {
          "duration": 0.028682,
          "end_time": "2021-06-10T18:36:27.057165",
          "exception": false,
          "start_time": "2021-06-10T18:36:27.028483",
          "status": "completed"
        },
        "tags": []
      },
      "outputs": [],
      "source": [
        "# function for loading images and labels into X and y..in X, it will store images.. \n",
        "#and in y it will store actual image label (0 or 1) for each image..if 0 no tumor,1 then tumorous image\n",
        "def load_data(dir_list, image_size):\n",
        "    \n",
        "    # load all images in a directory\n",
        "    X = []\n",
        "    y = []\n",
        "    \n",
        "    image_width, image_height = image_size\n",
        "    \n",
        "    for directory in dir_list:\n",
        "        for filename in listdir(directory):\n",
        "            # load the image\n",
        "            image = cv2.imread(directory + '/' + filename)\n",
        "            \n",
        "            # crop the brain and ignore the unnecessary rest part of the image\n",
        "            image = crop_brain_contour(image, plot=False)\n",
        "            # resize image\n",
        "            image = cv2.resize(image, dsize=(image_width, image_height), interpolation=cv2.INTER_CUBIC)\n",
        "            # normalize values\n",
        "            image = image / 255.\n",
        "            # convert image to numpy array and append it to X\n",
        "            X.append(image)\n",
        "            # append a value of 1 to the target array if the image\n",
        "            # is in the folder named 'yes', otherwise append 0.\n",
        "            if directory[-3:] == 'yes':\n",
        "                y.append([1])\n",
        "            else:\n",
        "                y.append([0])\n",
        "                \n",
        "    X = np.array(X)\n",
        "    y = np.array(y)\n",
        "    \n",
        "    # Shuffle the data\n",
        "    X, y = shuffle(X, y)\n",
        "    \n",
        "    print(f'Number of examples is: {len(X)}')\n",
        "    print(f'X shape is: {X.shape}')\n",
        "    print(f'y shape is: {y.shape}')\n",
        "    \n",
        "    return X, y\n"
      ]
    },
    {
      "cell_type": "code",
      "execution_count": 76,
      "id": "subsequent-valley",
      "metadata": {
        "execution": {
          "iopub.execute_input": "2021-06-10T18:36:27.154410Z",
          "iopub.status.busy": "2021-06-10T18:36:27.153643Z",
          "iopub.status.idle": "2021-06-10T18:36:27.156147Z",
          "shell.execute_reply": "2021-06-10T18:36:27.156604Z"
        },
        "id": "subsequent-valley",
        "papermill": {
          "duration": 0.0256,
          "end_time": "2021-06-10T18:36:27.156770",
          "exception": false,
          "start_time": "2021-06-10T18:36:27.131170",
          "status": "completed"
        },
        "tags": []
      },
      "outputs": [],
      "source": [
        "#path for yes and no folder\n",
        "yes = \"/content/drive/My Drive/archive/yes\"\n",
        "no = \"/content/drive/My Drive/archive/no\"\n"
      ]
    },
    {
      "cell_type": "code",
      "execution_count": 77,
      "id": "after-opportunity",
      "metadata": {
        "execution": {
          "iopub.execute_input": "2021-06-10T18:36:27.197040Z",
          "iopub.status.busy": "2021-06-10T18:36:27.196410Z",
          "iopub.status.idle": "2021-06-10T18:36:27.216297Z",
          "shell.execute_reply": "2021-06-10T18:36:27.215837Z"
        },
        "id": "after-opportunity",
        "outputId": "7a0b06e3-ea9a-4d4a-f5dc-0e739006ef63",
        "papermill": {
          "duration": 0.040316,
          "end_time": "2021-06-10T18:36:27.216498",
          "exception": false,
          "start_time": "2021-06-10T18:36:27.176182",
          "status": "completed"
        },
        "tags": [],
        "colab": {
          "base_uri": "https://localhost:8080/"
        }
      },
      "outputs": [
        {
          "output_type": "stream",
          "name": "stdout",
          "text": [
            "Number of examples is: 253\n",
            "X shape is: (253, 256, 256, 3)\n",
            "y shape is: (253, 1)\n"
          ]
        }
      ],
      "source": [
        "#image size specified\n",
        "IMG_WIDTH, IMG_HEIGHT = (256, 256)\n",
        "#calling load function for loading X,y data by passing both folder paths\n",
        "X, y = load_data([yes,no], (IMG_WIDTH, IMG_HEIGHT))\n",
        "#here we can see it is showing 2065,256,256,3...means 2065 images, and each image of size is (256,256,3)\n",
        "# y shape is 2065,1 means it stores labels for 2065 images respective to X data.."
      ]
    },
    {
      "cell_type": "code",
      "execution_count": 78,
      "id": "comic-drive",
      "metadata": {
        "execution": {
          "iopub.execute_input": "2021-06-10T18:36:27.260021Z",
          "iopub.status.busy": "2021-06-10T18:36:27.258988Z",
          "iopub.status.idle": "2021-06-10T18:36:27.262289Z",
          "shell.execute_reply": "2021-06-10T18:36:27.261700Z"
        },
        "id": "comic-drive",
        "papermill": {
          "duration": 0.026442,
          "end_time": "2021-06-10T18:36:27.262447",
          "exception": false,
          "start_time": "2021-06-10T18:36:27.236005",
          "status": "completed"
        },
        "tags": []
      },
      "outputs": [],
      "source": [
        "def split_data(X, y, test_size=0.2):\n",
        "    \n",
        "    X_train, X_test, y_train, y_test = train_test_split(X, y, test_size=test_size)\n",
        "    \n",
        "    return X_train, y_train, X_test, y_test"
      ]
    },
    {
      "cell_type": "code",
      "execution_count": 79,
      "id": "talented-daisy",
      "metadata": {
        "execution": {
          "iopub.execute_input": "2021-06-10T18:36:27.313399Z",
          "iopub.status.busy": "2021-06-10T18:36:27.312741Z",
          "iopub.status.idle": "2021-06-10T18:36:27.318720Z",
          "shell.execute_reply": "2021-06-10T18:36:27.318091Z"
        },
        "id": "talented-daisy",
        "papermill": {
          "duration": 0.037393,
          "end_time": "2021-06-10T18:36:27.318892",
          "exception": false,
          "start_time": "2021-06-10T18:36:27.281499",
          "status": "completed"
        },
        "tags": []
      },
      "outputs": [],
      "source": [
        "#data splitting\n",
        "X_train, y_train,X_test, y_test = split_data(X, y, test_size=0.3)"
      ]
    },
    {
      "cell_type": "code",
      "execution_count": 80,
      "id": "developmental-junction",
      "metadata": {
        "execution": {
          "iopub.execute_input": "2021-06-10T18:36:27.361569Z",
          "iopub.status.busy": "2021-06-10T18:36:27.360947Z",
          "iopub.status.idle": "2021-06-10T18:36:54.792468Z",
          "shell.execute_reply": "2021-06-10T18:36:54.791191Z"
        },
        "id": "developmental-junction",
        "papermill": {
          "duration": 27.454811,
          "end_time": "2021-06-10T18:36:54.792689",
          "exception": false,
          "start_time": "2021-06-10T18:36:27.337878",
          "status": "completed"
        },
        "tags": []
      },
      "outputs": [],
      "source": [
        "#loading vgg16 pretrained model\n",
        "from keras.applications.vgg16 import VGG16\n",
        "SIZE=256\n",
        "VGG_model=VGG16(input_shape=(SIZE,SIZE,3),include_top=False,weights='imagenet')"
      ]
    },
    {
      "cell_type": "code",
      "execution_count": 81,
      "id": "difficult-brass",
      "metadata": {
        "execution": {
          "iopub.execute_input": "2021-06-10T18:36:54.858404Z",
          "iopub.status.busy": "2021-06-10T18:36:54.854789Z",
          "iopub.status.idle": "2021-06-10T18:36:54.862618Z",
          "shell.execute_reply": "2021-06-10T18:36:54.863075Z"
        },
        "id": "difficult-brass",
        "papermill": {
          "duration": 0.04928,
          "end_time": "2021-06-10T18:36:54.863262",
          "exception": false,
          "start_time": "2021-06-10T18:36:54.813982",
          "status": "completed"
        },
        "tags": []
      },
      "outputs": [],
      "source": [
        "#we are not not using VGG16 model for training...so we made all layers as non trainable\n",
        "for layer in VGG_model.layers:\n",
        "    layer.trainable=False"
      ]
    },
    {
      "cell_type": "code",
      "execution_count": 82,
      "id": "declared-disaster",
      "metadata": {
        "execution": {
          "iopub.execute_input": "2021-06-10T18:36:54.907659Z",
          "iopub.status.busy": "2021-06-10T18:36:54.906766Z",
          "iopub.status.idle": "2021-06-10T18:36:54.927570Z",
          "shell.execute_reply": "2021-06-10T18:36:54.928105Z"
        },
        "id": "declared-disaster",
        "outputId": "ceeb84aa-3ad7-4c8d-f15c-208605dd13d3",
        "papermill": {
          "duration": 0.044074,
          "end_time": "2021-06-10T18:36:54.928277",
          "exception": false,
          "start_time": "2021-06-10T18:36:54.884203",
          "status": "completed"
        },
        "tags": [],
        "colab": {
          "base_uri": "https://localhost:8080/"
        }
      },
      "outputs": [
        {
          "output_type": "stream",
          "name": "stdout",
          "text": [
            "Model: \"vgg16\"\n",
            "_________________________________________________________________\n",
            " Layer (type)                Output Shape              Param #   \n",
            "=================================================================\n",
            " input_3 (InputLayer)        [(None, 256, 256, 3)]     0         \n",
            "                                                                 \n",
            " block1_conv1 (Conv2D)       (None, 256, 256, 64)      1792      \n",
            "                                                                 \n",
            " block1_conv2 (Conv2D)       (None, 256, 256, 64)      36928     \n",
            "                                                                 \n",
            " block1_pool (MaxPooling2D)  (None, 128, 128, 64)      0         \n",
            "                                                                 \n",
            " block2_conv1 (Conv2D)       (None, 128, 128, 128)     73856     \n",
            "                                                                 \n",
            " block2_conv2 (Conv2D)       (None, 128, 128, 128)     147584    \n",
            "                                                                 \n",
            " block2_pool (MaxPooling2D)  (None, 64, 64, 128)       0         \n",
            "                                                                 \n",
            " block3_conv1 (Conv2D)       (None, 64, 64, 256)       295168    \n",
            "                                                                 \n",
            " block3_conv2 (Conv2D)       (None, 64, 64, 256)       590080    \n",
            "                                                                 \n",
            " block3_conv3 (Conv2D)       (None, 64, 64, 256)       590080    \n",
            "                                                                 \n",
            " block3_pool (MaxPooling2D)  (None, 32, 32, 256)       0         \n",
            "                                                                 \n",
            " block4_conv1 (Conv2D)       (None, 32, 32, 512)       1180160   \n",
            "                                                                 \n",
            " block4_conv2 (Conv2D)       (None, 32, 32, 512)       2359808   \n",
            "                                                                 \n",
            " block4_conv3 (Conv2D)       (None, 32, 32, 512)       2359808   \n",
            "                                                                 \n",
            " block4_pool (MaxPooling2D)  (None, 16, 16, 512)       0         \n",
            "                                                                 \n",
            " block5_conv1 (Conv2D)       (None, 16, 16, 512)       2359808   \n",
            "                                                                 \n",
            " block5_conv2 (Conv2D)       (None, 16, 16, 512)       2359808   \n",
            "                                                                 \n",
            " block5_conv3 (Conv2D)       (None, 16, 16, 512)       2359808   \n",
            "                                                                 \n",
            " block5_pool (MaxPooling2D)  (None, 8, 8, 512)         0         \n",
            "                                                                 \n",
            "=================================================================\n",
            "Total params: 14,714,688\n",
            "Trainable params: 0\n",
            "Non-trainable params: 14,714,688\n",
            "_________________________________________________________________\n"
          ]
        }
      ],
      "source": [
        "VGG_model.summary()"
      ]
    },
    {
      "cell_type": "code",
      "execution_count": 83,
      "id": "provincial-chancellor",
      "metadata": {
        "execution": {
          "iopub.execute_input": "2021-06-10T18:36:54.973207Z",
          "iopub.status.busy": "2021-06-10T18:36:54.972283Z",
          "iopub.status.idle": "2021-06-10T18:36:54.996103Z",
          "shell.execute_reply": "2021-06-10T18:36:54.996591Z"
        },
        "id": "provincial-chancellor",
        "outputId": "d246e8d8-ef20-4c55-955e-c12a0cdec990",
        "papermill": {
          "duration": 0.047585,
          "end_time": "2021-06-10T18:36:54.996760",
          "exception": false,
          "start_time": "2021-06-10T18:36:54.949175",
          "status": "completed"
        },
        "tags": [],
        "colab": {
          "base_uri": "https://localhost:8080/"
        }
      },
      "outputs": [
        {
          "output_type": "stream",
          "name": "stdout",
          "text": [
            "WARNING:tensorflow:Compiled the loaded model, but the compiled metrics have yet to be built. `model.compile_metrics` will be empty until you train or evaluate the model.\n"
          ]
        }
      ],
      "source": [
        "#saving vgg model into file for further use\n",
        "VGG_model.save(\"/content/drive/My Drive/VGG_model.h5\")"
      ]
    },
    {
      "cell_type": "code",
      "execution_count": 84,
      "id": "charged-sharing",
      "metadata": {
        "execution": {
          "iopub.execute_input": "2021-06-10T18:36:55.056035Z",
          "iopub.status.busy": "2021-06-10T18:36:55.054659Z",
          "iopub.status.idle": "2021-06-10T18:36:55.080409Z",
          "shell.execute_reply": "2021-06-10T18:36:55.080872Z"
        },
        "id": "charged-sharing",
        "papermill": {
          "duration": 0.057932,
          "end_time": "2021-06-10T18:36:55.081061",
          "exception": false,
          "start_time": "2021-06-10T18:36:55.023129",
          "status": "completed"
        },
        "tags": []
      },
      "outputs": [],
      "source": [
        "#extract features for training data\n",
        "feature_ex=VGG_model.predict(X_train)\n"
      ]
    },
    {
      "cell_type": "code",
      "execution_count": 85,
      "id": "complex-police",
      "metadata": {
        "execution": {
          "iopub.execute_input": "2021-06-10T18:36:55.131254Z",
          "iopub.status.busy": "2021-06-10T18:36:55.129621Z",
          "iopub.status.idle": "2021-06-10T18:36:55.151294Z",
          "shell.execute_reply": "2021-06-10T18:36:55.151715Z"
        },
        "id": "complex-police",
        "outputId": "05c74aa9-ad10-4a19-aef8-624b22d944b2",
        "papermill": {
          "duration": 0.048574,
          "end_time": "2021-06-10T18:36:55.151919",
          "exception": false,
          "start_time": "2021-06-10T18:36:55.103345",
          "status": "completed"
        },
        "tags": [],
        "colab": {
          "base_uri": "https://localhost:8080/"
        }
      },
      "outputs": [
        {
          "output_type": "execute_result",
          "data": {
            "text/plain": [
              "(177, 8, 8, 512)"
            ]
          },
          "metadata": {},
          "execution_count": 85
        }
      ],
      "source": [
        "feature_ex.shape"
      ]
    },
    {
      "cell_type": "code",
      "execution_count": 86,
      "id": "approved-barrel",
      "metadata": {
        "execution": {
          "iopub.execute_input": "2021-06-10T18:36:55.199512Z",
          "iopub.status.busy": "2021-06-10T18:36:55.198577Z",
          "iopub.status.idle": "2021-06-10T18:36:55.219335Z",
          "shell.execute_reply": "2021-06-10T18:36:55.219743Z"
        },
        "id": "approved-barrel",
        "papermill": {
          "duration": 0.046314,
          "end_time": "2021-06-10T18:36:55.219950",
          "exception": false,
          "start_time": "2021-06-10T18:36:55.173636",
          "status": "completed"
        },
        "tags": []
      },
      "outputs": [],
      "source": [
        "features=feature_ex.reshape(feature_ex.shape[0],-1)\n"
      ]
    },
    {
      "cell_type": "code",
      "execution_count": 87,
      "id": "possible-secretariat",
      "metadata": {
        "execution": {
          "iopub.execute_input": "2021-06-10T18:36:55.267223Z",
          "iopub.status.busy": "2021-06-10T18:36:55.266249Z",
          "iopub.status.idle": "2021-06-10T18:36:55.289739Z",
          "shell.execute_reply": "2021-06-10T18:36:55.288394Z"
        },
        "id": "possible-secretariat",
        "outputId": "f26d5d5c-9aa1-4228-d937-2d7c931732f1",
        "papermill": {
          "duration": 0.047899,
          "end_time": "2021-06-10T18:36:55.290047",
          "exception": false,
          "start_time": "2021-06-10T18:36:55.242148",
          "status": "completed"
        },
        "tags": [],
        "colab": {
          "base_uri": "https://localhost:8080/"
        }
      },
      "outputs": [
        {
          "output_type": "execute_result",
          "data": {
            "text/plain": [
              "(177, 32768)"
            ]
          },
          "metadata": {},
          "execution_count": 87
        }
      ],
      "source": [
        "features.shape"
      ]
    },
    {
      "cell_type": "code",
      "execution_count": 88,
      "id": "decimal-storm",
      "metadata": {
        "execution": {
          "iopub.execute_input": "2021-06-10T18:36:55.357771Z",
          "iopub.status.busy": "2021-06-10T18:36:55.355528Z",
          "iopub.status.idle": "2021-06-10T18:36:55.360548Z",
          "shell.execute_reply": "2021-06-10T18:36:55.361035Z"
        },
        "id": "decimal-storm",
        "papermill": {
          "duration": 0.047108,
          "end_time": "2021-06-10T18:36:55.361223",
          "exception": false,
          "start_time": "2021-06-10T18:36:55.314115",
          "status": "completed"
        },
        "tags": []
      },
      "outputs": [],
      "source": [
        "#extract features for testing data\n",
        "test_feature_ex=VGG_model.predict(X_test)\n",
        "test_features=test_feature_ex.reshape(test_feature_ex.shape[0],-1)"
      ]
    },
    {
      "cell_type": "code",
      "execution_count": 89,
      "id": "desperate-mississippi",
      "metadata": {
        "execution": {
          "iopub.execute_input": "2021-06-10T18:36:55.409344Z",
          "iopub.status.busy": "2021-06-10T18:36:55.408765Z",
          "iopub.status.idle": "2021-06-10T18:36:55.411743Z",
          "shell.execute_reply": "2021-06-10T18:36:55.412214Z"
        },
        "id": "desperate-mississippi",
        "papermill": {
          "duration": 0.028613,
          "end_time": "2021-06-10T18:36:55.412377",
          "exception": false,
          "start_time": "2021-06-10T18:36:55.383764",
          "status": "completed"
        },
        "tags": []
      },
      "outputs": [],
      "source": [
        "#Pass features to classifier model"
      ]
    },
    {
      "cell_type": "code",
      "execution_count": 90,
      "id": "valuable-centre",
      "metadata": {
        "execution": {
          "iopub.execute_input": "2021-06-10T18:36:55.463429Z",
          "iopub.status.busy": "2021-06-10T18:36:55.462851Z",
          "iopub.status.idle": "2021-06-10T18:36:56.371675Z",
          "shell.execute_reply": "2021-06-10T18:36:56.370914Z"
        },
        "id": "valuable-centre",
        "outputId": "6ddefe02-3115-42ac-aaa9-256fcc75d0e6",
        "papermill": {
          "duration": 0.934075,
          "end_time": "2021-06-10T18:36:56.371837",
          "exception": false,
          "start_time": "2021-06-10T18:36:55.437762",
          "status": "completed"
        },
        "tags": [],
        "colab": {
          "base_uri": "https://localhost:8080/"
        }
      },
      "outputs": [
        {
          "output_type": "stream",
          "name": "stderr",
          "text": [
            "/usr/local/lib/python3.7/dist-packages/sklearn/utils/validation.py:993: DataConversionWarning: A column-vector y was passed when a 1d array was expected. Please change the shape of y to (n_samples, ), for example using ravel().\n",
            "  y = column_or_1d(y, warn=True)\n"
          ]
        }
      ],
      "source": [
        "from sklearn import svm\n",
        "\n",
        "#Create a svm Classifier\n",
        "clf = svm.SVC(kernel='linear') # Linear Kernel\n",
        "\n",
        "#Train the model using thetraining features extracted by VGG16 i.e.features...and the labels i.e y_train\n",
        "clf.fit(features, y_train)\n",
        "\n",
        "#Predict the response for test features\n",
        "y_pred = clf.predict(test_features)"
      ]
    },
    {
      "cell_type": "code",
      "execution_count": 91,
      "id": "sufficient-compensation",
      "metadata": {
        "execution": {
          "iopub.execute_input": "2021-06-10T18:36:56.432357Z",
          "iopub.status.busy": "2021-06-10T18:36:56.429050Z",
          "iopub.status.idle": "2021-06-10T18:36:56.446324Z",
          "shell.execute_reply": "2021-06-10T18:36:56.445815Z"
        },
        "id": "sufficient-compensation",
        "outputId": "4f5c1d5a-5fa9-4506-e59d-1c92d5651ec9",
        "papermill": {
          "duration": 0.050521,
          "end_time": "2021-06-10T18:36:56.446517",
          "exception": false,
          "start_time": "2021-06-10T18:36:56.395996",
          "status": "completed"
        },
        "tags": [],
        "colab": {
          "base_uri": "https://localhost:8080/"
        }
      },
      "outputs": [
        {
          "output_type": "execute_result",
          "data": {
            "text/plain": [
              "0.9078947368421053"
            ]
          },
          "metadata": {},
          "execution_count": 91
        }
      ],
      "source": [
        "#testing accuracy\n",
        "from sklearn import metrics\n",
        "metrics.accuracy_score(y_test,y_pred)"
      ]
    },
    {
      "cell_type": "markdown",
      "id": "large-gathering",
      "metadata": {
        "id": "large-gathering",
        "papermill": {
          "duration": 0.023302,
          "end_time": "2021-06-10T18:36:56.493665",
          "exception": false,
          "start_time": "2021-06-10T18:36:56.470363",
          "status": "completed"
        },
        "tags": []
      },
      "source": [
        "# Testing accuracy is 98.70"
      ]
    },
    {
      "cell_type": "code",
      "execution_count": 92,
      "id": "absent-client",
      "metadata": {
        "execution": {
          "iopub.execute_input": "2021-06-10T18:36:56.548986Z",
          "iopub.status.busy": "2021-06-10T18:36:56.548318Z",
          "iopub.status.idle": "2021-06-10T18:36:56.663316Z",
          "shell.execute_reply": "2021-06-10T18:36:56.663793Z"
        },
        "id": "absent-client",
        "outputId": "62800a83-8de2-466c-c3cc-9617580da8be",
        "papermill": {
          "duration": 0.146824,
          "end_time": "2021-06-10T18:36:56.664019",
          "exception": false,
          "start_time": "2021-06-10T18:36:56.517195",
          "status": "completed"
        },
        "tags": [],
        "colab": {
          "base_uri": "https://localhost:8080/"
        }
      },
      "outputs": [
        {
          "output_type": "stream",
          "name": "stdout",
          "text": [
            "Accuracy: 0.907895\n",
            "Precision: 0.953488\n",
            "Recall: 0.891304\n",
            "F1 score: 0.921348\n"
          ]
        }
      ],
      "source": [
        "from sklearn.datasets import make_circles\n",
        "from sklearn.metrics import accuracy_score\n",
        "from sklearn.metrics import precision_score\n",
        "from sklearn.metrics import recall_score\n",
        "from sklearn.metrics import f1_score\n",
        "from sklearn.metrics import cohen_kappa_score\n",
        "from sklearn.metrics import roc_auc_score\n",
        "from sklearn.metrics import confusion_matrix\n",
        "\n",
        "\n",
        "# accuracy: (tp + tn) / (p + n)\n",
        "accuracy_svm = accuracy_score(y_test, y_pred)\n",
        "print('Accuracy: %f' % accuracy_svm)\n",
        "# precision tp / (tp + fp)\n",
        "precision_svm = precision_score(y_test, y_pred)\n",
        "print('Precision: %f' % precision_svm)\n",
        "# recall: tp / (tp + fn)\n",
        "recall_svm = recall_score(y_test, y_pred)\n",
        "print('Recall: %f' % recall_svm)\n",
        "# f1: 2 tp / (2 tp + fp + fn)\n",
        "f1_svm = f1_score(y_test, y_pred)\n",
        "print('F1 score: %f' % f1_svm)"
      ]
    },
    {
      "cell_type": "code",
      "execution_count": 93,
      "id": "blocked-relaxation",
      "metadata": {
        "execution": {
          "iopub.execute_input": "2021-06-10T18:36:56.714863Z",
          "iopub.status.busy": "2021-06-10T18:36:56.714236Z",
          "iopub.status.idle": "2021-06-10T18:36:56.722147Z",
          "shell.execute_reply": "2021-06-10T18:36:56.722632Z"
        },
        "id": "blocked-relaxation",
        "papermill": {
          "duration": 0.035203,
          "end_time": "2021-06-10T18:36:56.722796",
          "exception": false,
          "start_time": "2021-06-10T18:36:56.687593",
          "status": "completed"
        },
        "tags": []
      },
      "outputs": [],
      "source": [
        "import itertools\n",
        "def plot_confusion_matrix(cm, classes,\n",
        "                          normalize=False,\n",
        "                          title='Confusion matrix',\n",
        "                          cmap=plt.cm.Blues):\n",
        "    \"\"\"\n",
        "    This function prints and plots the confusion matrix.\n",
        "    Normalization can be applied by setting `normalize=True`.\n",
        "    \"\"\"\n",
        "    plt.figure(figsize = (6,6))\n",
        "    plt.imshow(cm, interpolation='nearest', cmap=cmap)\n",
        "    plt.title(title)\n",
        "    plt.colorbar()\n",
        "    tick_marks = np.arange(len(classes))\n",
        "    plt.xticks(tick_marks, classes, rotation=90)\n",
        "    plt.yticks(tick_marks, classes)\n",
        "    if normalize:\n",
        "        cm = cm.astype('float') / cm.sum(axis=1)[:, np.newaxis]\n",
        "\n",
        "    thresh = cm.max() / 2.\n",
        "    cm = np.round(cm,2)\n",
        "    for i, j in itertools.product(range(cm.shape[0]), range(cm.shape[1])):\n",
        "        plt.text(j, i, cm[i, j],\n",
        "                 horizontalalignment=\"center\",\n",
        "                 color=\"white\" if cm[i, j] > thresh else \"black\")\n",
        "    plt.tight_layout()\n",
        "    plt.ylabel('True label')\n",
        "    plt.xlabel('Predicted label')\n",
        "    plt.show()\n",
        "    plt.savefig('/content/drive/My Drive/accuracy_plot.pdf',dpi=300,bbox_inches='tight')"
      ]
    },
    {
      "cell_type": "code",
      "execution_count": 94,
      "id": "delayed-difficulty",
      "metadata": {
        "execution": {
          "iopub.execute_input": "2021-06-10T18:36:56.792380Z",
          "iopub.status.busy": "2021-06-10T18:36:56.783089Z",
          "iopub.status.idle": "2021-06-10T18:36:56.796852Z",
          "shell.execute_reply": "2021-06-10T18:36:56.796326Z"
        },
        "id": "delayed-difficulty",
        "outputId": "c83f817f-9acf-4f2b-e2bd-c7763cf2eaa2",
        "papermill": {
          "duration": 0.050261,
          "end_time": "2021-06-10T18:36:56.797002",
          "exception": false,
          "start_time": "2021-06-10T18:36:56.746741",
          "status": "completed"
        },
        "tags": [],
        "colab": {
          "base_uri": "https://localhost:8080/",
          "height": 458
        }
      },
      "outputs": [
        {
          "output_type": "display_data",
          "data": {
            "image/png": "[encoded data removed]",
            "text/plain": [
              "<Figure size 432x432 with 2 Axes>"
            ]
          },
          "metadata": {
            "needs_background": "light"
          }
        },
        {
          "output_type": "display_data",
          "data": {
            "text/plain": [
              "<Figure size 432x288 with 0 Axes>"
            ]
          },
          "metadata": {}
        }
      ],
      "source": [
        "labels = ['yes','no']\n",
        "confusion_mtx = confusion_matrix(y_test, y_pred) \n",
        "cm = plot_confusion_matrix(confusion_mtx, classes = labels, normalize=False)"
      ]
    },
    {
      "cell_type": "code",
      "execution_count": 95,
      "id": "preceding-investing",
      "metadata": {
        "execution": {
          "iopub.execute_input": "2021-06-10T18:36:56.866432Z",
          "iopub.status.busy": "2021-06-10T18:36:56.854152Z",
          "iopub.status.idle": "2021-06-10T18:36:56.870153Z",
          "shell.execute_reply": "2021-06-10T18:36:56.870668Z"
        },
        "id": "preceding-investing",
        "outputId": "34d1a785-5c54-47c7-806a-64f22949c45d",
        "papermill": {
          "duration": 0.050077,
          "end_time": "2021-06-10T18:36:56.870857",
          "exception": false,
          "start_time": "2021-06-10T18:36:56.820780",
          "status": "completed"
        },
        "tags": [],
        "colab": {
          "base_uri": "https://localhost:8080/"
        }
      },
      "outputs": [
        {
          "output_type": "stream",
          "name": "stdout",
          "text": [
            "Confusion matrix:\n",
            "[[28  2]\n",
            " [ 5 41]]\n"
          ]
        }
      ],
      "source": [
        "print(\"Confusion matrix:\\n%s\" % metrics.confusion_matrix(y_test, y_pred))"
      ]
    },
    {
      "cell_type": "code",
      "execution_count": 96,
      "id": "nominated-intake",
      "metadata": {
        "execution": {
          "iopub.execute_input": "2021-06-10T18:36:56.924907Z",
          "iopub.status.busy": "2021-06-10T18:36:56.924033Z",
          "iopub.status.idle": "2021-06-10T18:36:56.947381Z",
          "shell.execute_reply": "2021-06-10T18:36:56.947917Z"
        },
        "id": "nominated-intake",
        "papermill": {
          "duration": 0.051191,
          "end_time": "2021-06-10T18:36:56.948097",
          "exception": false,
          "start_time": "2021-06-10T18:36:56.896906",
          "status": "completed"
        },
        "tags": []
      },
      "outputs": [],
      "source": [
        "import pickle\n",
        "# save the model to disk\n",
        "filename = '/content/drive/My Drive/finalized_model.sav'\n",
        "pickle.dump(clf, open(filename, 'wb'))"
      ]
    },
    {
      "cell_type": "code",
      "execution_count": 97,
      "id": "binding-kentucky",
      "metadata": {
        "execution": {
          "iopub.execute_input": "2021-06-10T18:36:57.102651Z",
          "iopub.status.busy": "2021-06-10T18:36:57.101741Z",
          "iopub.status.idle": "2021-06-10T18:36:57.105313Z",
          "shell.execute_reply": "2021-06-10T18:36:57.105788Z"
        },
        "id": "binding-kentucky",
        "papermill": {
          "duration": 0.031692,
          "end_time": "2021-06-10T18:36:57.105989",
          "exception": false,
          "start_time": "2021-06-10T18:36:57.074297",
          "status": "completed"
        },
        "tags": []
      },
      "outputs": [],
      "source": [
        "#How to see output on new input image\n"
      ]
    },
    {
      "cell_type": "code",
      "execution_count": 98,
      "id": "adapted-sailing",
      "metadata": {
        "execution": {
          "iopub.execute_input": "2021-06-10T18:36:57.159949Z",
          "iopub.status.busy": "2021-06-10T18:36:57.159021Z",
          "iopub.status.idle": "2021-06-10T18:36:57.220565Z",
          "shell.execute_reply": "2021-06-10T18:36:57.221065Z"
        },
        "id": "adapted-sailing",
        "papermill": {
          "duration": 0.089836,
          "end_time": "2021-06-10T18:36:57.221250",
          "exception": false,
          "start_time": "2021-06-10T18:36:57.131414",
          "status": "completed"
        },
        "tags": []
      },
      "outputs": [],
      "source": [
        "#read image and preprocess it\n",
        "path=\"/content/drive/My Drive/archive/no/N3.jpg\"\n",
        "img=cv2.imread(path)\n",
        "img = crop_brain_contour(img,plot=False)\n",
        "img = cv2.resize(img, dsize=(256,256), interpolation=cv2.INTER_CUBIC)\n",
        "img = img / 255.\n",
        "from keras.preprocessing import image\n",
        "test_image = image.img_to_array(img)\n",
        "test_image = np.expand_dims(test_image, axis = 0)"
      ]
    },
    {
      "cell_type": "code",
      "execution_count": 99,
      "id": "lightweight-being",
      "metadata": {
        "execution": {
          "iopub.execute_input": "2021-06-10T18:36:57.275245Z",
          "iopub.status.busy": "2021-06-10T18:36:57.274311Z",
          "iopub.status.idle": "2021-06-10T18:36:57.296382Z",
          "shell.execute_reply": "2021-06-10T18:36:57.296857Z"
        },
        "id": "lightweight-being",
        "outputId": "5a067abb-4730-4fde-a15a-381f208137ee",
        "papermill": {
          "duration": 0.050627,
          "end_time": "2021-06-10T18:36:57.297049",
          "exception": false,
          "start_time": "2021-06-10T18:36:57.246422",
          "status": "completed"
        },
        "tags": [],
        "colab": {
          "base_uri": "https://localhost:8080/"
        }
      },
      "outputs": [
        {
          "output_type": "stream",
          "name": "stdout",
          "text": [
            "WARNING:tensorflow:No training configuration found in the save file, so the model was *not* compiled. Compile it manually.\n"
          ]
        }
      ],
      "source": [
        "vggmodel = load_model(\"/content/drive/My Drive/VGG_model.h5\")"
      ]
    },
    {
      "cell_type": "code",
      "execution_count": 100,
      "id": "supposed-crowd",
      "metadata": {
        "execution": {
          "iopub.execute_input": "2021-06-10T18:36:57.353456Z",
          "iopub.status.busy": "2021-06-10T18:36:57.352486Z",
          "iopub.status.idle": "2021-06-10T18:36:57.375544Z",
          "shell.execute_reply": "2021-06-10T18:36:57.374943Z"
        },
        "id": "supposed-crowd",
        "papermill": {
          "duration": 0.052206,
          "end_time": "2021-06-10T18:36:57.375686",
          "exception": false,
          "start_time": "2021-06-10T18:36:57.323480",
          "status": "completed"
        },
        "tags": []
      },
      "outputs": [],
      "source": [
        "#get features for input image\n",
        "test_f=vggmodel.predict(test_image)\n"
      ]
    },
    {
      "cell_type": "code",
      "execution_count": 101,
      "id": "distributed-spirituality",
      "metadata": {
        "execution": {
          "iopub.execute_input": "2021-06-10T18:36:57.450153Z",
          "iopub.status.busy": "2021-06-10T18:36:57.448108Z",
          "iopub.status.idle": "2021-06-10T18:36:57.455208Z",
          "shell.execute_reply": "2021-06-10T18:36:57.454587Z"
        },
        "id": "distributed-spirituality",
        "papermill": {
          "duration": 0.05374,
          "end_time": "2021-06-10T18:36:57.455350",
          "exception": false,
          "start_time": "2021-06-10T18:36:57.401610",
          "status": "completed"
        },
        "tags": []
      },
      "outputs": [],
      "source": [
        "#reshape features\n",
        "test_f=test_f.reshape(test_f.shape[0],-1)"
      ]
    },
    {
      "cell_type": "code",
      "execution_count": 102,
      "id": "capable-buddy",
      "metadata": {
        "execution": {
          "iopub.execute_input": "2021-06-10T18:36:57.530728Z",
          "iopub.status.busy": "2021-06-10T18:36:57.530147Z",
          "iopub.status.idle": "2021-06-10T18:36:57.533513Z",
          "shell.execute_reply": "2021-06-10T18:36:57.534055Z"
        },
        "id": "capable-buddy",
        "papermill": {
          "duration": 0.052125,
          "end_time": "2021-06-10T18:36:57.534219",
          "exception": false,
          "start_time": "2021-06-10T18:36:57.482094",
          "status": "completed"
        },
        "tags": []
      },
      "outputs": [],
      "source": [
        "#load svm model which is generated already\n",
        "filename = '/content/drive/My Drive/finalized_model.sav' \n",
        "svm_model = pickle.load(open(filename, 'rb'))"
      ]
    },
    {
      "cell_type": "code",
      "execution_count": 103,
      "id": "suburban-backup",
      "metadata": {
        "execution": {
          "iopub.execute_input": "2021-06-10T18:36:57.592120Z",
          "iopub.status.busy": "2021-06-10T18:36:57.591471Z",
          "iopub.status.idle": "2021-06-10T18:36:57.613739Z",
          "shell.execute_reply": "2021-06-10T18:36:57.614256Z"
        },
        "id": "suburban-backup",
        "outputId": "cf447837-be99-4809-b6d8-83116b69efab",
        "papermill": {
          "duration": 0.053087,
          "end_time": "2021-06-10T18:36:57.614423",
          "exception": false,
          "start_time": "2021-06-10T18:36:57.561336",
          "status": "completed"
        },
        "tags": [],
        "colab": {
          "base_uri": "https://localhost:8080/"
        }
      },
      "outputs": [
        {
          "output_type": "stream",
          "name": "stdout",
          "text": [
            "No tumor detected\n"
          ]
        }
      ],
      "source": [
        "# why no detected, bcz we passed image from no folder...try givving image from yes folder also within the augmented data folder\n",
        "prediction_svm=svm_model.predict(test_f)\n",
        "if(prediction_svm[0]==0):\n",
        "   print(\"No tumor detected\")\n",
        "else:\n",
        "   print(\"Tumor detected\")\n"
      ]
    }
  ],
  "metadata": {
    "kernelspec": {
      "display_name": "Python 3",
      "language": "python",
      "name": "python3"
    },
    "language_info": {
      "codemirror_mode": {
        "name": "ipython",
        "version": 3
      },
      "file_extension": ".py",
      "mimetype": "text/x-python",
      "name": "python",
      "nbconvert_exporter": "python",
      "pygments_lexer": "ipython3",
      "version": "3.7.9"
    },
    "papermill": {
      "default_parameters": {},
      "duration": 39.114276,
      "end_time": "2021-06-10T18:36:58.752378",
      "environment_variables": {},
      "exception": null,
      "input_path": "__notebook__.ipynb",
      "output_path": "__notebook__.ipynb",
      "parameters": {},
      "start_time": "2021-06-10T18:36:19.638102",
      "version": "2.3.2"
    },
    "colab": {
      "name": "Brain tumour Detection using CNN(VGG16)+SVM.ipynb",
      "provenance": []
    }
  },
  "nbformat": 4,
  "nbformat_minor": 5
}